{
 "cells": [
  {
   "cell_type": "markdown",
   "metadata": {},
   "source": [
    "<h1><center>NLP Project</center></h1>\n",
    "<h3><center>Spring 2022</center></h3>\n",
    "<hr style=\"border:2px solid black\"> </hr>"
   ]
  },
  {
   "cell_type": "markdown",
   "metadata": {},
   "source": [
    "## <u> Please don't forget to fill in this data </u>\n",
    "**Member 1**\n",
    "\n",
    "Name: Bassel Amgad \n",
    "\n",
    "GUC-ID: 43-6927\n",
    "\n",
    "Tut: 4\n",
    "\n",
    "**Member 2**\n",
    "\n",
    "Name: Khaled Mohamed\n",
    "\n",
    "GUC-ID: 43-15546\n",
    "\n",
    "Tut: 4\n",
    "\n",
    "**Member 3**\n",
    "\n",
    "Name: Mohamed Hatem\n",
    "\n",
    "GUC-ID: 43-0512\n",
    "\n",
    "Tut: 2\n",
    "\n",
    "**Member 4**\n",
    "\n",
    "Name: Nour Abouzeid\n",
    "\n",
    "GUC-ID: 43-1564\n",
    "\n",
    "Tut: 6\n",
    "\n",
    "<hr style=\"border:2px solid black\"> </hr>"
   ]
  },
  {
   "cell_type": "markdown",
   "metadata": {},
   "source": [
    "## Imports"
   ]
  },
  {
   "cell_type": "code",
   "execution_count": 2,
   "metadata": {},
   "outputs": [
    {
     "ename": "ModuleNotFoundError",
     "evalue": "No module named 'numpy'",
     "output_type": "error",
     "traceback": [
      "\u001b[1;31m---------------------------------------------------------------------------\u001b[0m",
      "\u001b[1;31mModuleNotFoundError\u001b[0m                       Traceback (most recent call last)",
      "Cell \u001b[1;32mIn[2], line 5\u001b[0m\n\u001b[0;32m      3\u001b[0m \u001b[38;5;28;01mimport\u001b[39;00m \u001b[38;5;21;01mnltk\u001b[39;00m\n\u001b[0;32m      4\u001b[0m \u001b[38;5;28;01mimport\u001b[39;00m \u001b[38;5;21;01mstring\u001b[39;00m\n\u001b[1;32m----> 5\u001b[0m \u001b[38;5;28;01mimport\u001b[39;00m \u001b[38;5;21;01mnumpy\u001b[39;00m \u001b[38;5;28;01mas\u001b[39;00m \u001b[38;5;21;01mnp\u001b[39;00m\n\u001b[0;32m      6\u001b[0m \u001b[38;5;28;01mfrom\u001b[39;00m \u001b[38;5;21;01mnrclex\u001b[39;00m \u001b[38;5;28;01mimport\u001b[39;00m NRCLex\n\u001b[0;32m      7\u001b[0m \u001b[38;5;28;01mfrom\u001b[39;00m \u001b[38;5;21;01mimportlib\u001b[39;00m \u001b[38;5;28;01mimport\u001b[39;00m reload\n",
      "\u001b[1;31mModuleNotFoundError\u001b[0m: No module named 'numpy'"
     ]
    }
   ],
   "source": [
    "# Imports\n",
    "import os\n",
    "import nltk\n",
    "import string\n",
    "import numpy as np\n",
    "from nrclex import NRCLex\n",
    "from importlib import reload\n",
    "import labMTsimple.storyLab as lb\n",
    "from nltk.corpus import stopwords\n",
    "from nltk.tokenize import word_tokenize\n",
    "from matplotlib import pyplot as plt\n",
    "  \n",
    "import json\n",
    "\n",
    "\n",
    "path =r\"E:\\Semester 10\\NLP\\nlp-project-BasselAmgad\\scripts\"\n",
    "os.chdir(path)\n",
    "\n",
    "filenamestmp = next(os.walk(path), (None, None, []))[2]\n",
    "filenames=[]\n",
    "for i in filenamestmp:\n",
    "        filenames.append(i.translate(str.maketrans('', '', '.txt')))"
   ]
  },
  {
   "cell_type": "markdown",
   "metadata": {},
   "source": [
    "## Read Data"
   ]
  },
  {
   "cell_type": "code",
   "execution_count": 2,
   "metadata": {},
   "outputs": [],
   "source": [
    "scripts = []\n",
    "tokenized = []\n",
    "def read_text_file(file_path):\n",
    "    huge_list = []\n",
    "    with open(file_path , encoding=\"utf8\") as f:\n",
    "        for line in f:\n",
    "            huge_list.extend(line.split())\n",
    "        return huge_list\n",
    "\n",
    "    \n",
    "for file in os.listdir():\n",
    "    # Check whether file is in text format or not\n",
    "    if file.endswith(\".txt\"):\n",
    "        file_path = f\"{path}\\{file}\"\n",
    "        # call read text file function\n",
    "        scripts.append(read_text_file(file_path))\n",
    "        "
   ]
  },
  {
   "cell_type": "markdown",
   "metadata": {},
   "source": [
    "<hr style=\"border:2px solid black\"> </hr>\n",
    "\n",
    "## Preprocessing and Feature Extraction"
   ]
  },
  {
   "cell_type": "markdown",
   "metadata": {},
   "source": [
    "#### Remove stopwords, spaces, punctiuation from the strings themselves"
   ]
  },
  {
   "cell_type": "code",
   "execution_count": 3,
   "metadata": {},
   "outputs": [],
   "source": [
    "cleaned1 = []\n",
    "for script in scripts:\n",
    "    tmp=[]\n",
    "    for i in script:\n",
    "        tmp.append(i.translate(str.maketrans('', '', string.punctuation)))\n",
    "    cleaned1.append(tmp)"
   ]
  },
  {
   "cell_type": "markdown",
   "metadata": {},
   "source": [
    "#### Remove stopwords, spaces, punctiuation and make all lowercase"
   ]
  },
  {
   "cell_type": "code",
   "execution_count": 4,
   "metadata": {},
   "outputs": [],
   "source": [
    "cleanedFinal =[]\n",
    "stop = set(stopwords.words('english') + list(string.punctuation))\n",
    "for script in cleaned1:\n",
    "    cleanedFinal.append([i.lower() for i in script if i.lower() not in stop and not i.lower().isnumeric() and i != ''])"
   ]
  },
  {
   "cell_type": "code",
   "execution_count": 5,
   "metadata": {},
   "outputs": [
    {
     "data": {
      "text/plain": [
       "['holding',\n",
       " 'written',\n",
       " 'anthony',\n",
       " 'cipriano',\n",
       " 'fade',\n",
       " 'ext',\n",
       " 'neighborhood',\n",
       " 'street',\n",
       " 'morning',\n",
       " 'twin',\n",
       " 'boys',\n",
       " 'rudy',\n",
       " 'jacob',\n",
       " 'carges',\n",
       " 'ride',\n",
       " 'bikes',\n",
       " 'suburban',\n",
       " 'neighborhood',\n",
       " 'rudy',\n",
       " 'athletic']"
      ]
     },
     "execution_count": 5,
     "metadata": {},
     "output_type": "execute_result"
    }
   ],
   "source": [
    "cleanedFinal[0][:20]"
   ]
  },
  {
   "cell_type": "markdown",
   "metadata": {},
   "source": [
    "<hr style=\"border:2px solid black\"> </hr>\n",
    "\n",
    "## VAD Vectorization"
   ]
  },
  {
   "cell_type": "code",
   "execution_count": 6,
   "metadata": {},
   "outputs": [],
   "source": [
    "path =r\"E:\\Semester 10\\NLP\\nlp-project-BasselAmgad\"\n",
    "os.chdir(path)\n",
    "from os import walk"
   ]
  },
  {
   "cell_type": "markdown",
   "metadata": {},
   "source": [
    "### Getting the NRC dictionary"
   ]
  },
  {
   "cell_type": "code",
   "execution_count": 7,
   "metadata": {},
   "outputs": [],
   "source": [
    "Words = []\n",
    "Valence = []\n",
    "Arousal = []\n",
    "Dominance = []\n",
    "skip=True\n",
    "with open('NRC-VAD-Lexicon.txt', encoding=\"utf8\") as f:\n",
    "    for line in f:\n",
    "        if skip:\n",
    "            skip=False\n",
    "            continue\n",
    "        tmp = line.split()\n",
    "        Words.append(tmp[0])\n",
    "        Valence.append(tmp[1])\n",
    "        Arousal.append(tmp[2])\n",
    "        Dominance.append(tmp[3])"
   ]
  },
  {
   "cell_type": "markdown",
   "metadata": {},
   "source": [
    "### Creating the valence,arousal,dominance vector for all the words"
   ]
  },
  {
   "cell_type": "code",
   "execution_count": 8,
   "metadata": {},
   "outputs": [
    {
     "name": "stdout",
     "output_type": "stream",
     "text": [
      "100\n",
      "200\n",
      "300\n",
      "400\n",
      "500\n",
      "600\n",
      "700\n"
     ]
    }
   ],
   "source": [
    "finalValence=[]\n",
    "finalArousal = []\n",
    "finalDominance = []\n",
    "l = 1\n",
    "for script in cleanedFinal:\n",
    "    v1 = []\n",
    "    a1 = []\n",
    "    d1 = []\n",
    "    for word in script:\n",
    "        try:\n",
    "            index = Words.index(word)\n",
    "            v1.append(Valence[index])\n",
    "            a1.append(Arousal[index])\n",
    "            d1.append(Dominance[index])\n",
    "        except:\n",
    "            v1.append(0)\n",
    "            a1.append(0)\n",
    "            d1.append(0)\n",
    "    finalValence.append(v1)\n",
    "    finalArousal.append(a1)\n",
    "    finalDominance.append(d1)\n",
    "    if(l%100==0):\n",
    "        print(l)\n",
    "    l=l+1"
   ]
  },
  {
   "cell_type": "markdown",
   "metadata": {},
   "source": [
    "<hr style=\"border:2px solid black\"> </hr>\n",
    "\n",
    "## Output"
   ]
  },
  {
   "cell_type": "code",
   "execution_count": 9,
   "metadata": {},
   "outputs": [],
   "source": [
    "def average(l):\n",
    "    c = 0\n",
    "    sum1 = 0\n",
    "    average = []\n",
    "    for i in l:\n",
    "        sum1=sum1+float(i)\n",
    "        c=c+1\n",
    "        if(c==500):\n",
    "            average.append(sum1/c)\n",
    "            c=0\n",
    "            sum1=0\n",
    "    if(c>0):\n",
    "        average.append(sum1/c)\n",
    "    return average\n",
    "def isfloat(num):\n",
    "    try:\n",
    "        float(num)\n",
    "        return True\n",
    "    except ValueError:\n",
    "        return False"
   ]
  },
  {
   "cell_type": "markdown",
   "metadata": {},
   "source": [
    "## Creating and saving the plots for each script"
   ]
  },
  {
   "cell_type": "code",
   "execution_count": 12,
   "metadata": {},
   "outputs": [],
   "source": [
    "for i in range(0,711):\n",
    "    movieV = list(filter(lambda a: a != 0 and isfloat(a), finalValence[i]))\n",
    "    movieA = list(filter(lambda a: a != 0 and isfloat(a), finalArousal[i]))\n",
    "    movieD = list(filter(lambda a: a != 0 and isfloat(a), finalDominance[i]))\n",
    "    averageV = average(movieV)\n",
    "    averageA = average(movieA)\n",
    "    averageD = average(movieD)\n",
    "    plt.plot(averageV, label='Valence')\n",
    "    plt.plot(averageA, label='Arousal')\n",
    "    plt.plot(averageD, label='Dominance')\n",
    "    plt.legend(loc = 'best')\n",
    "    plt.savefig('pics/'+filenames[i]+'.png',format=\"png\")\n",
    "    plt.close()"
   ]
  }
 ],
 "metadata": {
  "interpreter": {
   "hash": "31f2aee4e71d21fbe5cf8b01ff0e069b9275f58929596ceb00d14d90e3e16cd6"
  },
  "kernelspec": {
   "display_name": "Python 3 (ipykernel)",
   "language": "python",
   "name": "python3"
  },
  "language_info": {
   "codemirror_mode": {
    "name": "ipython",
    "version": 3
   },
   "file_extension": ".py",
   "mimetype": "text/x-python",
   "name": "python",
   "nbconvert_exporter": "python",
   "pygments_lexer": "ipython3",
   "version": "3.12.2"
  }
 },
 "nbformat": 4,
 "nbformat_minor": 4
}
